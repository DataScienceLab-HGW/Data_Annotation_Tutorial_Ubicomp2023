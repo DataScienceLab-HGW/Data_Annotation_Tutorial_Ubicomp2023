{
  "nbformat": 4,
  "nbformat_minor": 0,
  "metadata": {
    "colab": {
      "provenance": [],
      "toc_visible": true
    },
    "kernelspec": {
      "name": "python3",
      "display_name": "Python 3"
    },
    "language_info": {
      "name": "python"
    }
  },
  "cells": [
    {
      "cell_type": "code",
      "source": [
        "import matplotlib.patches as mpatches\n",
        "import matplotlib.pyplot as plt\n",
        "from matplotlib.pyplot import figure\n",
        "\n",
        "class Label:\n",
        "    def __init__(self, idx, tag, color):\n",
        "       '''\n",
        "       id : index of occurrence\n",
        "       tag: the corresponding textual tag,\n",
        "       color: the color for the graphical representation later on\n",
        "       '''\n",
        "       self.idx = idx\n",
        "       self.tag = tag\n",
        "       self.color = color\n",
        "\n",
        "    def get_idx(self):\n",
        "           return self.idx\n",
        "    def get_tag(self):\n",
        "           return self.tag\n",
        "    def get_color(self):\n",
        "           return self.color\n",
        "\n",
        "def create_x_coords_from_lbls(lbls, colors ):\n",
        "    dict_color_coords_x = {}# we store here for each color(lbl) the coordinates\n",
        "\n",
        "    for color in colors:\n",
        "        dict_color_coords_x[color] = []\n",
        "\n",
        "    for lbl in lbls:\n",
        "        idx = lbl.get_idx()\n",
        "        tag = lbl.get_tag()\n",
        "        color = lbl.get_color()\n",
        "        x_coord = (idx, 1)\n",
        "        dict_color_coords_x[color].append(x_coord)\n",
        "\n",
        "\n",
        "    return dict_color_coords_x\n",
        "\n",
        "def visualize_differences_annotations(annot_1, annot_2, color_map_labels, export_filepath = None):\n",
        "\n",
        "    length_annotations = len(annot_1)\n",
        "\n",
        "    clr_map_differences = {\"TT\":\"white\", \"NN\":\"black\"}\n",
        "\n",
        "    differences_list = [\"TT\" if lbl == annot_1[idx] else \"NN\" for idx, lbl in enumerate(annot_2)]\n",
        "\n",
        "    A_as_lbl_objs = [Label(idx, annot, color_map_labels.get(annot) ) for idx, annot in enumerate(annot_1)]\n",
        "    B_as_lbl_objs = [Label(idx, annot, color_map_labels.get(annot) ) for idx, annot in enumerate(annot_2)]\n",
        "    C_as_lbl_objs = [Label(idx, annot, clr_map_differences.get(annot) ) for idx, annot in enumerate(differences_list)]\n",
        "\n",
        "    colors = list(color_map_labels.values())\n",
        "    colors_unequal = list(clr_map_differences.values())\n",
        "\n",
        "    annot_A_colors_xs_dict = create_x_coords_from_lbls(A_as_lbl_objs, colors)\n",
        "    y_coord = (0,1)\n",
        "\n",
        "    annot_B_colors_xs_dict = create_x_coords_from_lbls(B_as_lbl_objs, colors)\n",
        "\n",
        "    annot_C_colors_xs_dict = create_x_coords_from_lbls(C_as_lbl_objs, colors_unequal)\n",
        "\n",
        "    fig, axs = plt.subplots(3, sharex=True, sharey=True)\n",
        "    fig.set_size_inches(12, 8)\n",
        "    fig.suptitle('Annotation differences')\n",
        "\n",
        "\n",
        "    for key, value in annot_A_colors_xs_dict.items():\n",
        "        axs[0].broken_barh(value, y_coord, facecolors =key)\n",
        "\n",
        "    for key, value in annot_B_colors_xs_dict.items():\n",
        "        axs[2].broken_barh(value, y_coord, facecolors =key)\n",
        "\n",
        "    for key, value in annot_C_colors_xs_dict.items():\n",
        "        axs[1].broken_barh(value, y_coord, facecolors =key)\n",
        "\n",
        "\n",
        "    axs[0].set_xlim([0, length_annotations])\n",
        "    axs[0].set_ylabel(\"Annotator A\")\n",
        "    axs[0].set_yticks([])\n",
        "    axs[0].margins(x=0,y=0)\n",
        "\n",
        "    axs[1].set_yticks([])\n",
        "    axs[1].set_ylabel(\"A!=B\")\n",
        "\n",
        "    x_ticks_timeline = [i for i in range(length_annotations)]\n",
        "\n",
        "    axs[2].set_xlim([0, length_annotations])\n",
        "    axs[2].set_yticks([])\n",
        "    axs[2].set_xticks(x_ticks_timeline)# if no ticks use set_xticks([])\n",
        "    axs[2].set_ylabel(\"Annotator B\")\n",
        "\n",
        "    #legend:\n",
        "    color_patches = [ mpatches.Patch(color=value, label = key) for key,value in color_map_labels.items() ]\n",
        "\n",
        "    axs[0].legend(handles=color_patches,loc=\"upper left\", bbox_to_anchor=(1,1))\n",
        "    plt.subplots_adjust(wspace=0, hspace=0.00)\n",
        "    plt.margins(x=0, y=0)\n",
        "\n",
        "    if export_filepath:\n",
        "       plt.savefig(export_filepath)\n",
        "    else:\n",
        "       plt.show()\n",
        "\n",
        "\n",
        "def percent_agreement(ann_a, ann_b):\n",
        "    counts_agreed = 0\n",
        "    counts_total = len(ann_a)\n",
        "    for i in range(counts_total):\n",
        "       if ann_a[i] == ann_b[i]:\n",
        "          counts_agreed +=1\n",
        "    if counts_agreed == 0:\n",
        "       return 0\n",
        "    else:\n",
        "       return (counts_agreed / counts_total)*100"
      ],
      "metadata": {
        "id": "PxaE4Vuaycxt"
      },
      "execution_count": null,
      "outputs": []
    },
    {
      "cell_type": "markdown",
      "source": [
        "# Measuring and visualizing Interrater Agreement"
      ],
      "metadata": {
        "id": "EAYLILdaw__O"
      }
    },
    {
      "cell_type": "markdown",
      "source": [
        "## Cohen's Kappa"
      ],
      "metadata": {
        "id": "FxufAbAP1ciG"
      }
    },
    {
      "cell_type": "markdown",
      "source": [
        "An implementation of the Cohen's Kappa score is provided in the python package scikit-learn."
      ],
      "metadata": {
        "id": "6GVQHGS8105X"
      }
    },
    {
      "cell_type": "code",
      "source": [
        "from sklearn.metrics import cohen_kappa_score\n",
        "\n",
        "ann_A = [\"take\",\"take\",\"take\",\"take\",\"wait\",\"wait\",\"wait\",\"put\",\"put\",\"walk\",\"walk\",\"walk\", \"sit\", \"sit\",\"sit\",\"sit\",\"sit\"]\n",
        "ann_B  = [\"take\",\"take\",\"take\",\"wait\",\"wait\",\"wait\",\"wait\",\"wait\",\"put\",\"walk\",\"walk\",\"sit\", \"sit\", \"sit\", \"sit\", \"wait\", \"wait\"]\n",
        "\n",
        "print(cohen_kappa_score(ann_A, ann_B))\n"
      ],
      "metadata": {
        "colab": {
          "base_uri": "https://localhost:8080/"
        },
        "id": "sRUtibvY1t8N",
        "outputId": "e2fbb850-03c3-46c6-9c5f-a80780c144a2"
      },
      "execution_count": null,
      "outputs": [
        {
          "output_type": "stream",
          "name": "stdout",
          "text": [
            "0.6271929824561404\n"
          ]
        }
      ]
    },
    {
      "cell_type": "markdown",
      "source": [
        "###Example from slides"
      ],
      "metadata": {
        "id": "0qlW2XTihaip"
      }
    },
    {
      "cell_type": "markdown",
      "source": [
        "Let's use the example from the slides and compare the Cohen's kappa score and the percentage agreement score."
      ],
      "metadata": {
        "id": "MqQtUaDLhOHM"
      }
    },
    {
      "cell_type": "code",
      "source": [
        "ANNOT_1 = [\"c\",\"c\",\"c\",\"d\",\"d\",\"d\",\"d\",\"d\"]\n",
        "ANNOT_2 = [\"c\",\"c\", \"d\", \"c\", \"c\",\"d\",\"d\",\"d\"]\n",
        "\n",
        "print(cohen_kappa_score(ANNOT_1, ANNOT_2))\n"
      ],
      "metadata": {
        "colab": {
          "base_uri": "https://localhost:8080/"
        },
        "id": "_W_5KrL0TRlI",
        "outputId": "535b8e52-f4a2-4bd6-887a-1c6e45cc797f"
      },
      "execution_count": null,
      "outputs": [
        {
          "output_type": "stream",
          "name": "stdout",
          "text": [
            "0.25\n"
          ]
        }
      ]
    },
    {
      "cell_type": "markdown",
      "source": [
        "What is the score compared to percent agreement?"
      ],
      "metadata": {
        "id": "qT2T1Sp34K16"
      }
    },
    {
      "cell_type": "code",
      "source": [
        "print(percent_agreement(ANNOT_1, ANNOT_2))"
      ],
      "metadata": {
        "colab": {
          "base_uri": "https://localhost:8080/"
        },
        "id": "cTi8bqCK3p1q",
        "outputId": "66cb081a-a04c-4368-9903-5a8a41da4464"
      },
      "execution_count": null,
      "outputs": [
        {
          "output_type": "stream",
          "name": "stdout",
          "text": [
            "62.5\n"
          ]
        }
      ]
    },
    {
      "cell_type": "markdown",
      "source": [
        "**More** extreme example: very high percent agreement, very low k"
      ],
      "metadata": {
        "id": "Ws1kS_6Srn7Y"
      }
    },
    {
      "cell_type": "code",
      "source": [
        "ANNOT_1 = [\"c\",\"c\",\"c\",\"c\",\"c\",\"c\",\"c\",\"d\"]\n",
        "ANNOT_2 = [\"c\",\"c\",\"c\",\"c\",\"c\",\"c\",\"c\",\"c\"]\n",
        "\n",
        "print(cohen_kappa_score(ANNOT_1, ANNOT_2))\n",
        "print(percent_agreement(ANNOT_1, ANNOT_2))"
      ],
      "metadata": {
        "colab": {
          "base_uri": "https://localhost:8080/"
        },
        "id": "BTi96oJbrtSc",
        "outputId": "255d53c8-1751-423c-8648-315e9d7b7031"
      },
      "execution_count": null,
      "outputs": [
        {
          "output_type": "stream",
          "name": "stdout",
          "text": [
            "0.0\n",
            "87.5\n"
          ]
        }
      ]
    },
    {
      "cell_type": "code",
      "source": [],
      "metadata": {
        "id": "93t6Y4EjrnBb"
      },
      "execution_count": null,
      "outputs": []
    },
    {
      "cell_type": "markdown",
      "source": [
        "## Bland-Altman plot"
      ],
      "metadata": {
        "id": "CezxrsvbxTv1"
      }
    },
    {
      "cell_type": "code",
      "source": [
        "import pandas as pd\n",
        "\n",
        "# Let's imagine that the annotation task is about counting how many particular objects (let's say cars) are visualized in a picture\n",
        "# The annotators have to type in only the number of this particular objects\n",
        "# Below are given the annotations of 10 images\n",
        "df = pd.DataFrame({'A': [2, 5, 7, 10, 21, 22, 30 ],\n",
        "                   'B': [2, 3, 9, 10, 20, 15, 25 ]})"
      ],
      "metadata": {
        "id": "pqKnCFqEWr9P"
      },
      "execution_count": null,
      "outputs": []
    },
    {
      "cell_type": "code",
      "source": [
        "import statsmodels.api as sm\n",
        "import matplotlib.pyplot as plt\n",
        "\n",
        "#create Bland-Altman plot\n",
        "f, ax = plt.subplots(1, figsize = (12, 5))\n",
        "sm.graphics.mean_diff_plot(df.A, df.B, ax = ax)\n",
        "\n",
        "#display Bland-Altman plot\n",
        "plt.show()"
      ],
      "metadata": {
        "colab": {
          "base_uri": "https://localhost:8080/",
          "height": 333
        },
        "id": "82PxwGgnW3rD",
        "outputId": "4205ec3c-6b14-4a29-c011-04d478253380"
      },
      "execution_count": null,
      "outputs": [
        {
          "output_type": "display_data",
          "data": {
            "text/plain": [
              "<Figure size 1200x500 with 1 Axes>"
            ],
            "image/png": "[encoded data removed]"
          },
          "metadata": {}
        }
      ]
    },
    {
      "cell_type": "code",
      "source": [
        "# there is also a library called pyCompare https://github.com/jaketmp/pyCompare\n",
        "# It offers an implementation of such plots as well"
      ],
      "metadata": {
        "id": "4xKQhoeodIqA"
      },
      "execution_count": null,
      "outputs": []
    },
    {
      "cell_type": "code",
      "source": [
        "!pip install pyCompare"
      ],
      "metadata": {
        "colab": {
          "base_uri": "https://localhost:8080/"
        },
        "id": "UEyL_DPTdXIz",
        "outputId": "107d21f7-4b9d-435d-cc65-bc5e441df3d9"
      },
      "execution_count": null,
      "outputs": [
        {
          "output_type": "stream",
          "name": "stdout",
          "text": [
            "Collecting pyCompare\n",
            "  Downloading pyCompare-1.5.4-py3-none-any.whl (12 kB)\n",
            "Requirement already satisfied: numpy>=1.18.1 in /usr/local/lib/python3.10/dist-packages (from pyCompare) (1.23.5)\n",
            "Requirement already satisfied: scipy>=1.0.1 in /usr/local/lib/python3.10/dist-packages (from pyCompare) (1.11.3)\n",
            "Requirement already satisfied: matplotlib>=3.0.2 in /usr/local/lib/python3.10/dist-packages (from pyCompare) (3.7.1)\n",
            "Requirement already satisfied: contourpy>=1.0.1 in /usr/local/lib/python3.10/dist-packages (from matplotlib>=3.0.2->pyCompare) (1.1.1)\n",
            "Requirement already satisfied: cycler>=0.10 in /usr/local/lib/python3.10/dist-packages (from matplotlib>=3.0.2->pyCompare) (0.12.0)\n",
            "Requirement already satisfied: fonttools>=4.22.0 in /usr/local/lib/python3.10/dist-packages (from matplotlib>=3.0.2->pyCompare) (4.43.0)\n",
            "Requirement already satisfied: kiwisolver>=1.0.1 in /usr/local/lib/python3.10/dist-packages (from matplotlib>=3.0.2->pyCompare) (1.4.5)\n",
            "Requirement already satisfied: packaging>=20.0 in /usr/local/lib/python3.10/dist-packages (from matplotlib>=3.0.2->pyCompare) (23.1)\n",
            "Requirement already satisfied: pillow>=6.2.0 in /usr/local/lib/python3.10/dist-packages (from matplotlib>=3.0.2->pyCompare) (9.4.0)\n",
            "Requirement already satisfied: pyparsing>=2.3.1 in /usr/local/lib/python3.10/dist-packages (from matplotlib>=3.0.2->pyCompare) (3.1.1)\n",
            "Requirement already satisfied: python-dateutil>=2.7 in /usr/local/lib/python3.10/dist-packages (from matplotlib>=3.0.2->pyCompare) (2.8.2)\n",
            "Requirement already satisfied: six>=1.5 in /usr/local/lib/python3.10/dist-packages (from python-dateutil>=2.7->matplotlib>=3.0.2->pyCompare) (1.16.0)\n",
            "Installing collected packages: pyCompare\n",
            "Successfully installed pyCompare-1.5.4\n"
          ]
        }
      ]
    },
    {
      "cell_type": "code",
      "source": [
        "import pyCompare\n",
        "pyCompare.blandAltman(df.A, df.B, title = \"comparison between two methods\")"
      ],
      "metadata": {
        "colab": {
          "base_uri": "https://localhost:8080/",
          "height": 466
        },
        "id": "j8AJ2j3qdf7r",
        "outputId": "ca3909df-cc9e-41f3-e4e8-296565cfc738"
      },
      "execution_count": null,
      "outputs": [
        {
          "output_type": "display_data",
          "data": {
            "text/plain": [
              "<Figure size 720x504 with 1 Axes>"
            ],
            "image/png": "[encoded data removed]"
          },
          "metadata": {}
        }
      ]
    },
    {
      "cell_type": "code",
      "source": [
        "display(df)"
      ],
      "metadata": {
        "colab": {
          "base_uri": "https://localhost:8080/",
          "height": 269
        },
        "id": "SvrI5ykH5S74",
        "outputId": "1b63e0d0-5716-4d10-a15a-c8a8cb47ac82"
      },
      "execution_count": null,
      "outputs": [
        {
          "output_type": "display_data",
          "data": {
            "text/plain": [
              "    A   B\n",
              "0   2   2\n",
              "1   5   3\n",
              "2   7   9\n",
              "3  10  10\n",
              "4  21  20\n",
              "5  22  15\n",
              "6  30  25"
            ],
            "text/html": [
              "\n",
              "  <div id=\"df-d320ab16-2dc0-49f6-b92e-7bccef9ff95c\" class=\"colab-df-container\">\n",
              "    <div>\n",
              "<style scoped>\n",
              "    .dataframe tbody tr th:only-of-type {\n",
              "        vertical-align: middle;\n",
              "    }\n",
              "\n",
              "    .dataframe tbody tr th {\n",
              "        vertical-align: top;\n",
              "    }\n",
              "\n",
              "    .dataframe thead th {\n",
              "        text-align: right;\n",
              "    }\n",
              "</style>\n",
              "<table border=\"1\" class=\"dataframe\">\n",
              "  <thead>\n",
              "    <tr style=\"text-align: right;\">\n",
              "      <th></th>\n",
              "      <th>A</th>\n",
              "      <th>B</th>\n",
              "    </tr>\n",
              "  </thead>\n",
              "  <tbody>\n",
              "    <tr>\n",
              "      <th>0</th>\n",
              "      <td>2</td>\n",
              "      <td>2</td>\n",
              "    </tr>\n",
              "    <tr>\n",
              "      <th>1</th>\n",
              "      <td>5</td>\n",
              "      <td>3</td>\n",
              "    </tr>\n",
              "    <tr>\n",
              "      <th>2</th>\n",
              "      <td>7</td>\n",
              "      <td>9</td>\n",
              "    </tr>\n",
              "    <tr>\n",
              "      <th>3</th>\n",
              "      <td>10</td>\n",
              "      <td>10</td>\n",
              "    </tr>\n",
              "    <tr>\n",
              "      <th>4</th>\n",
              "      <td>21</td>\n",
              "      <td>20</td>\n",
              "    </tr>\n",
              "    <tr>\n",
              "      <th>5</th>\n",
              "      <td>22</td>\n",
              "      <td>15</td>\n",
              "    </tr>\n",
              "    <tr>\n",
              "      <th>6</th>\n",
              "      <td>30</td>\n",
              "      <td>25</td>\n",
              "    </tr>\n",
              "  </tbody>\n",
              "</table>\n",
              "</div>\n",
              "    <div class=\"colab-df-buttons\">\n",
              "\n",
              "  <div class=\"colab-df-container\">\n",
              "    <button class=\"colab-df-convert\" onclick=\"convertToInteractive('df-d320ab16-2dc0-49f6-b92e-7bccef9ff95c')\"\n",
              "            title=\"Convert this dataframe to an interactive table.\"\n",
              "            style=\"display:none;\">\n",
              "\n",
              "  <svg xmlns=\"http://www.w3.org/2000/svg\" height=\"24px\" viewBox=\"0 -960 960 960\">\n",
              "    <path d=\"M120-120v-720h720v720H120Zm60-500h600v-160H180v160Zm220 220h160v-160H400v160Zm0 220h160v-160H400v160ZM180-400h160v-160H180v160Zm440 0h160v-160H620v160ZM180-180h160v-160H180v160Zm440 0h160v-160H620v160Z\"/>\n",
              "  </svg>\n",
              "    </button>\n",
              "\n",
              "  <style>\n",
              "    .colab-df-container {\n",
              "      display:flex;\n",
              "      gap: 12px;\n",
              "    }\n",
              "\n",
              "    .colab-df-convert {\n",
              "      background-color: #E8F0FE;\n",
              "      border: none;\n",
              "      border-radius: 50%;\n",
              "      cursor: pointer;\n",
              "      display: none;\n",
              "      fill: #1967D2;\n",
              "      height: 32px;\n",
              "      padding: 0 0 0 0;\n",
              "      width: 32px;\n",
              "    }\n",
              "\n",
              "    .colab-df-convert:hover {\n",
              "      background-color: #E2EBFA;\n",
              "      box-shadow: 0px 1px 2px rgba(60, 64, 67, 0.3), 0px 1px 3px 1px rgba(60, 64, 67, 0.15);\n",
              "      fill: #174EA6;\n",
              "    }\n",
              "\n",
              "    .colab-df-buttons div {\n",
              "      margin-bottom: 4px;\n",
              "    }\n",
              "\n",
              "    [theme=dark] .colab-df-convert {\n",
              "      background-color: #3B4455;\n",
              "      fill: #D2E3FC;\n",
              "    }\n",
              "\n",
              "    [theme=dark] .colab-df-convert:hover {\n",
              "      background-color: #434B5C;\n",
              "      box-shadow: 0px 1px 3px 1px rgba(0, 0, 0, 0.15);\n",
              "      filter: drop-shadow(0px 1px 2px rgba(0, 0, 0, 0.3));\n",
              "      fill: #FFFFFF;\n",
              "    }\n",
              "  </style>\n",
              "\n",
              "    <script>\n",
              "      const buttonEl =\n",
              "        document.querySelector('#df-d320ab16-2dc0-49f6-b92e-7bccef9ff95c button.colab-df-convert');\n",
              "      buttonEl.style.display =\n",
              "        google.colab.kernel.accessAllowed ? 'block' : 'none';\n",
              "\n",
              "      async function convertToInteractive(key) {\n",
              "        const element = document.querySelector('#df-d320ab16-2dc0-49f6-b92e-7bccef9ff95c');\n",
              "        const dataTable =\n",
              "          await google.colab.kernel.invokeFunction('convertToInteractive',\n",
              "                                                    [key], {});\n",
              "        if (!dataTable) return;\n",
              "\n",
              "        const docLinkHtml = 'Like what you see? Visit the ' +\n",
              "          '<a target=\"_blank\" href=https://colab.research.google.com/notebooks/data_table.ipynb>data table notebook</a>'\n",
              "          + ' to learn more about interactive tables.';\n",
              "        element.innerHTML = '';\n",
              "        dataTable['output_type'] = 'display_data';\n",
              "        await google.colab.output.renderOutput(dataTable, element);\n",
              "        const docLink = document.createElement('div');\n",
              "        docLink.innerHTML = docLinkHtml;\n",
              "        element.appendChild(docLink);\n",
              "      }\n",
              "    </script>\n",
              "  </div>\n",
              "\n",
              "\n",
              "<div id=\"df-732a819d-10ad-4e4d-bca8-16d619464e7a\">\n",
              "  <button class=\"colab-df-quickchart\" onclick=\"quickchart('df-732a819d-10ad-4e4d-bca8-16d619464e7a')\"\n",
              "            title=\"Suggest charts.\"\n",
              "            style=\"display:none;\">\n",
              "\n",
              "<svg xmlns=\"http://www.w3.org/2000/svg\" height=\"24px\"viewBox=\"0 0 24 24\"\n",
              "     width=\"24px\">\n",
              "    <g>\n",
              "        <path d=\"M19 3H5c-1.1 0-2 .9-2 2v14c0 1.1.9 2 2 2h14c1.1 0 2-.9 2-2V5c0-1.1-.9-2-2-2zM9 17H7v-7h2v7zm4 0h-2V7h2v10zm4 0h-2v-4h2v4z\"/>\n",
              "    </g>\n",
              "</svg>\n",
              "  </button>\n",
              "\n",
              "<style>\n",
              "  .colab-df-quickchart {\n",
              "      --bg-color: #E8F0FE;\n",
              "      --fill-color: #1967D2;\n",
              "      --hover-bg-color: #E2EBFA;\n",
              "      --hover-fill-color: #174EA6;\n",
              "      --disabled-fill-color: #AAA;\n",
              "      --disabled-bg-color: #DDD;\n",
              "  }\n",
              "\n",
              "  [theme=dark] .colab-df-quickchart {\n",
              "      --bg-color: #3B4455;\n",
              "      --fill-color: #D2E3FC;\n",
              "      --hover-bg-color: #434B5C;\n",
              "      --hover-fill-color: #FFFFFF;\n",
              "      --disabled-bg-color: #3B4455;\n",
              "      --disabled-fill-color: #666;\n",
              "  }\n",
              "\n",
              "  .colab-df-quickchart {\n",
              "    background-color: var(--bg-color);\n",
              "    border: none;\n",
              "    border-radius: 50%;\n",
              "    cursor: pointer;\n",
              "    display: none;\n",
              "    fill: var(--fill-color);\n",
              "    height: 32px;\n",
              "    padding: 0;\n",
              "    width: 32px;\n",
              "  }\n",
              "\n",
              "  .colab-df-quickchart:hover {\n",
              "    background-color: var(--hover-bg-color);\n",
              "    box-shadow: 0 1px 2px rgba(60, 64, 67, 0.3), 0 1px 3px 1px rgba(60, 64, 67, 0.15);\n",
              "    fill: var(--button-hover-fill-color);\n",
              "  }\n",
              "\n",
              "  .colab-df-quickchart-complete:disabled,\n",
              "  .colab-df-quickchart-complete:disabled:hover {\n",
              "    background-color: var(--disabled-bg-color);\n",
              "    fill: var(--disabled-fill-color);\n",
              "    box-shadow: none;\n",
              "  }\n",
              "\n",
              "  .colab-df-spinner {\n",
              "    border: 2px solid var(--fill-color);\n",
              "    border-color: transparent;\n",
              "    border-bottom-color: var(--fill-color);\n",
              "    animation:\n",
              "      spin 1s steps(1) infinite;\n",
              "  }\n",
              "\n",
              "  @keyframes spin {\n",
              "    0% {\n",
              "      border-color: transparent;\n",
              "      border-bottom-color: var(--fill-color);\n",
              "      border-left-color: var(--fill-color);\n",
              "    }\n",
              "    20% {\n",
              "      border-color: transparent;\n",
              "      border-left-color: var(--fill-color);\n",
              "      border-top-color: var(--fill-color);\n",
              "    }\n",
              "    30% {\n",
              "      border-color: transparent;\n",
              "      border-left-color: var(--fill-color);\n",
              "      border-top-color: var(--fill-color);\n",
              "      border-right-color: var(--fill-color);\n",
              "    }\n",
              "    40% {\n",
              "      border-color: transparent;\n",
              "      border-right-color: var(--fill-color);\n",
              "      border-top-color: var(--fill-color);\n",
              "    }\n",
              "    60% {\n",
              "      border-color: transparent;\n",
              "      border-right-color: var(--fill-color);\n",
              "    }\n",
              "    80% {\n",
              "      border-color: transparent;\n",
              "      border-right-color: var(--fill-color);\n",
              "      border-bottom-color: var(--fill-color);\n",
              "    }\n",
              "    90% {\n",
              "      border-color: transparent;\n",
              "      border-bottom-color: var(--fill-color);\n",
              "    }\n",
              "  }\n",
              "</style>\n",
              "\n",
              "  <script>\n",
              "    async function quickchart(key) {\n",
              "      const quickchartButtonEl =\n",
              "        document.querySelector('#' + key + ' button');\n",
              "      quickchartButtonEl.disabled = true;  // To prevent multiple clicks.\n",
              "      quickchartButtonEl.classList.add('colab-df-spinner');\n",
              "      try {\n",
              "        const charts = await google.colab.kernel.invokeFunction(\n",
              "            'suggestCharts', [key], {});\n",
              "      } catch (error) {\n",
              "        console.error('Error during call to suggestCharts:', error);\n",
              "      }\n",
              "      quickchartButtonEl.classList.remove('colab-df-spinner');\n",
              "      quickchartButtonEl.classList.add('colab-df-quickchart-complete');\n",
              "    }\n",
              "    (() => {\n",
              "      let quickchartButtonEl =\n",
              "        document.querySelector('#df-732a819d-10ad-4e4d-bca8-16d619464e7a button');\n",
              "      quickchartButtonEl.style.display =\n",
              "        google.colab.kernel.accessAllowed ? 'block' : 'none';\n",
              "    })();\n",
              "  </script>\n",
              "</div>\n",
              "    </div>\n",
              "  </div>\n"
            ]
          },
          "metadata": {}
        }
      ]
    },
    {
      "cell_type": "markdown",
      "source": [
        "## Visualizing sequential annotations"
      ],
      "metadata": {
        "id": "HbFrH_7mxbHq"
      }
    },
    {
      "cell_type": "code",
      "source": [
        "ann_A = [\"take\",\"take\",\"take\",\"take\",\"wait\",\"wait\",\"wait\",\"put\",\"put\",\"walk\",\"walk\",\"walk\", \"sit\", \"sit\"]\n",
        "ann_B  = [\"take\",\"take\",\"take\",\"wait\",\"wait\",\"wait\",\"wait\",\"wait\",\"put\",\"walk\",\"walk\",\"sit\", \"sit\", \"sit\"]\n",
        "lbl_colors_map = {\"take\":\"green\", \"wait\":\"coral\", \"walk\":\"blue\", \"sit\":\"yellow\", \"put\":\"purple\"}"
      ],
      "metadata": {
        "id": "v-AZgvCSy_WN"
      },
      "execution_count": null,
      "outputs": []
    },
    {
      "cell_type": "code",
      "source": [
        "visualize_differences_annotations(ann_A, ann_B, lbl_colors_map)"
      ],
      "metadata": {
        "colab": {
          "base_uri": "https://localhost:8080/",
          "height": 552
        },
        "id": "wTuBYZfFzZi0",
        "outputId": "700c2052-435f-4696-a1e0-65d757419deb"
      },
      "execution_count": null,
      "outputs": [
        {
          "output_type": "display_data",
          "data": {
            "text/plain": [
              "<Figure size 1200x800 with 3 Axes>"
            ],
            "image/png": "[encoded data removed]"
          },
          "metadata": {}
        }
      ]
    }
  ]
}